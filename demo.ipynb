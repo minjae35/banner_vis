{
 "cells": [
  {
   "cell_type": "code",
   "execution_count": null,
   "id": "4a02c586",
   "metadata": {
    "vscode": {
     "languageId": "plaintext"
    }
   },
   "outputs": [],
   "source": [
    "prompt_text = "
   ]
  }
 ],
 "metadata": {
  "language_info": {
   "name": "python"
  }
 },
 "nbformat": 4,
 "nbformat_minor": 5
}
